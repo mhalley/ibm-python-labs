{
  "metadata": {
    "kernelspec": {
      "name": "python",
      "display_name": "Python (Pyodide)",
      "language": "python"
    },
    "language_info": {
      "codemirror_mode": {
        "name": "python",
        "version": 3
      },
      "file_extension": ".py",
      "mimetype": "text/x-python",
      "name": "python",
      "nbconvert_exporter": "python",
      "pygments_lexer": "ipython3",
      "version": "3.8"
    }
  },
  "nbformat_minor": 4,
  "nbformat": 4,
  "cells": [
    {
      "cell_type": "markdown",
      "source": "<center>\n    <img src=\"https://cf-courses-data.s3.us.cloud-object-storage.appdomain.cloud/IBMDeveloperSkillsNetwork-PY0101EN-SkillsNetwork/IDSNlogo.png\" width=\"300\" alt=\"cognitiveclass.ai logo\">\n</center>\n",
      "metadata": {
        "tags": [],
        "editable": true,
        "slideshow": {
          "slide_type": "slide"
        }
      }
    },
    {
      "cell_type": "markdown",
      "source": "# Hands-on Lab: Working with different file formats\n\nEstimated time: **40 mins**\n",
      "metadata": {
        "jp-MarkdownHeadingCollapsed": true
      }
    },
    {
      "cell_type": "markdown",
      "source": "# Table of Contents\n\n<div class=\"alert alert-block alert-info\" style=\"margin-top: 20px\">\n\n<font size = 3>\n\n1.  <a href=\"#Data-Engineering\">Data Engineering</a>\n2.  <a href=\"#Data-Engineering-Process\">Data Engineering Process</a>\n3.  <a href=\"#Working-with-different-file-formats\">Working with different file formats</a>\n4.  <a href=\"#Data-Analysis\">Data Analysis</a>\n\n</font>\n</div>\n",
      "metadata": {
        "jp-MarkdownHeadingCollapsed": true
      }
    },
    {
      "cell_type": "markdown",
      "source": "# Data Engineering\n",
      "metadata": {}
    },
    {
      "cell_type": "markdown",
      "source": "**Data engineering** is one of the most critical and foundational skills in any data scientist’s toolkit.\n",
      "metadata": {
        "tags": [],
        "editable": true,
        "slideshow": {
          "slide_type": ""
        }
      }
    },
    {
      "cell_type": "markdown",
      "source": "# Comma-separated values (CSV) file format\n",
      "metadata": {
        "tags": [],
        "editable": true,
        "slideshow": {
          "slide_type": ""
        }
      }
    },
    {
      "cell_type": "markdown",
      "source": "## Reading data from CSV in Python\n",
      "metadata": {
        "tags": [],
        "editable": true,
        "slideshow": {
          "slide_type": ""
        }
      }
    },
    {
      "cell_type": "markdown",
      "source": "The **Pandas** Library is a useful tool that enables us to read various datasets into a Pandas data frame\n\nLet us look at how to read a CSV file in Pandas Library.\n\nWe use **pandas.read_csv()** function to read the csv file. In the parentheses, we put the file path along with a quotation mark as an argument, so that pandas will read the file into a data frame from that address. The file path can be either a URL or your local file address.\n",
      "metadata": {
        "tags": [],
        "editable": true,
        "slideshow": {
          "slide_type": ""
        }
      }
    },
    {
      "cell_type": "code",
      "source": "import piplite\nawait piplite.install(['seaborn', 'lxml', 'openpyxl'])\n\nimport pandas as pd",
      "metadata": {
        "trusted": true
      },
      "outputs": [],
      "execution_count": 1
    },
    {
      "cell_type": "code",
      "source": "from pyodide.http import pyfetch\n\nfilename = \"https://cf-courses-data.s3.us.cloud-object-storage.appdomain.cloud/IBMDeveloperSkillsNetwork-PY0101EN-SkillsNetwork/labs/Module%205/data/addresses.csv\"\n\nasync def download(url, filename):\n    response = await pyfetch(url)\n    if response.status == 200:\n        with open(filename, \"wb\") as f:\n            f.write(await response.bytes())\n\nawait download(filename, \"addresses.csv\")\n\ndf = pd.read_csv(\"addresses.csv\", header=None)",
      "metadata": {
        "trusted": true
      },
      "outputs": [],
      "execution_count": 2
    },
    {
      "cell_type": "code",
      "source": "df",
      "metadata": {
        "trusted": true
      },
      "outputs": [
        {
          "execution_count": 3,
          "output_type": "execute_result",
          "data": {
            "text/plain": "                       0         1                                 2  \\\n0                   John       Doe                 120 jefferson st.   \n1                   Jack  McGinnis                      220 hobo Av.   \n2          John \"Da Man\"    Repici                 120 Jefferson St.   \n3                Stephen     Tyler  7452 Terrace \"At the Plaza\" road   \n4                    NaN  Blankman                               NaN   \n5  Joan \"the bone\", Anne       Jet               9th, at Terrace plc   \n\n             3    4      5  \n0    Riverside   NJ   8075  \n1        Phila   PA   9119  \n2    Riverside   NJ   8075  \n3     SomeTown   SD  91234  \n4     SomeTown   SD    298  \n5  Desert City   CO    123  ",
            "text/html": "<div>\n<style scoped>\n    .dataframe tbody tr th:only-of-type {\n        vertical-align: middle;\n    }\n\n    .dataframe tbody tr th {\n        vertical-align: top;\n    }\n\n    .dataframe thead th {\n        text-align: right;\n    }\n</style>\n<table border=\"1\" class=\"dataframe\">\n  <thead>\n    <tr style=\"text-align: right;\">\n      <th></th>\n      <th>0</th>\n      <th>1</th>\n      <th>2</th>\n      <th>3</th>\n      <th>4</th>\n      <th>5</th>\n    </tr>\n  </thead>\n  <tbody>\n    <tr>\n      <th>0</th>\n      <td>John</td>\n      <td>Doe</td>\n      <td>120 jefferson st.</td>\n      <td>Riverside</td>\n      <td>NJ</td>\n      <td>8075</td>\n    </tr>\n    <tr>\n      <th>1</th>\n      <td>Jack</td>\n      <td>McGinnis</td>\n      <td>220 hobo Av.</td>\n      <td>Phila</td>\n      <td>PA</td>\n      <td>9119</td>\n    </tr>\n    <tr>\n      <th>2</th>\n      <td>John \"Da Man\"</td>\n      <td>Repici</td>\n      <td>120 Jefferson St.</td>\n      <td>Riverside</td>\n      <td>NJ</td>\n      <td>8075</td>\n    </tr>\n    <tr>\n      <th>3</th>\n      <td>Stephen</td>\n      <td>Tyler</td>\n      <td>7452 Terrace \"At the Plaza\" road</td>\n      <td>SomeTown</td>\n      <td>SD</td>\n      <td>91234</td>\n    </tr>\n    <tr>\n      <th>4</th>\n      <td>NaN</td>\n      <td>Blankman</td>\n      <td>NaN</td>\n      <td>SomeTown</td>\n      <td>SD</td>\n      <td>298</td>\n    </tr>\n    <tr>\n      <th>5</th>\n      <td>Joan \"the bone\", Anne</td>\n      <td>Jet</td>\n      <td>9th, at Terrace plc</td>\n      <td>Desert City</td>\n      <td>CO</td>\n      <td>123</td>\n    </tr>\n  </tbody>\n</table>\n</div>"
          },
          "metadata": {}
        }
      ],
      "execution_count": 3
    },
    {
      "cell_type": "markdown",
      "source": "#### Adding column name to the DataFrame\n\nWe can add columns to an existing DataFrame using its **columns** attribute.\n",
      "metadata": {}
    },
    {
      "cell_type": "code",
      "source": "df.columns =['First Name', 'Last Name', 'Location ', 'City','State','Area Code']",
      "metadata": {
        "trusted": true
      },
      "outputs": [],
      "execution_count": 4
    },
    {
      "cell_type": "code",
      "source": "df",
      "metadata": {
        "trusted": true
      },
      "outputs": [
        {
          "execution_count": 5,
          "output_type": "execute_result",
          "data": {
            "text/plain": "              First Name Last Name                         Location   \\\n0                   John       Doe                 120 jefferson st.   \n1                   Jack  McGinnis                      220 hobo Av.   \n2          John \"Da Man\"    Repici                 120 Jefferson St.   \n3                Stephen     Tyler  7452 Terrace \"At the Plaza\" road   \n4                    NaN  Blankman                               NaN   \n5  Joan \"the bone\", Anne       Jet               9th, at Terrace plc   \n\n          City State  Area Code  \n0    Riverside    NJ       8075  \n1        Phila    PA       9119  \n2    Riverside    NJ       8075  \n3     SomeTown    SD      91234  \n4     SomeTown    SD        298  \n5  Desert City    CO        123  ",
            "text/html": "<div>\n<style scoped>\n    .dataframe tbody tr th:only-of-type {\n        vertical-align: middle;\n    }\n\n    .dataframe tbody tr th {\n        vertical-align: top;\n    }\n\n    .dataframe thead th {\n        text-align: right;\n    }\n</style>\n<table border=\"1\" class=\"dataframe\">\n  <thead>\n    <tr style=\"text-align: right;\">\n      <th></th>\n      <th>First Name</th>\n      <th>Last Name</th>\n      <th>Location</th>\n      <th>City</th>\n      <th>State</th>\n      <th>Area Code</th>\n    </tr>\n  </thead>\n  <tbody>\n    <tr>\n      <th>0</th>\n      <td>John</td>\n      <td>Doe</td>\n      <td>120 jefferson st.</td>\n      <td>Riverside</td>\n      <td>NJ</td>\n      <td>8075</td>\n    </tr>\n    <tr>\n      <th>1</th>\n      <td>Jack</td>\n      <td>McGinnis</td>\n      <td>220 hobo Av.</td>\n      <td>Phila</td>\n      <td>PA</td>\n      <td>9119</td>\n    </tr>\n    <tr>\n      <th>2</th>\n      <td>John \"Da Man\"</td>\n      <td>Repici</td>\n      <td>120 Jefferson St.</td>\n      <td>Riverside</td>\n      <td>NJ</td>\n      <td>8075</td>\n    </tr>\n    <tr>\n      <th>3</th>\n      <td>Stephen</td>\n      <td>Tyler</td>\n      <td>7452 Terrace \"At the Plaza\" road</td>\n      <td>SomeTown</td>\n      <td>SD</td>\n      <td>91234</td>\n    </tr>\n    <tr>\n      <th>4</th>\n      <td>NaN</td>\n      <td>Blankman</td>\n      <td>NaN</td>\n      <td>SomeTown</td>\n      <td>SD</td>\n      <td>298</td>\n    </tr>\n    <tr>\n      <th>5</th>\n      <td>Joan \"the bone\", Anne</td>\n      <td>Jet</td>\n      <td>9th, at Terrace plc</td>\n      <td>Desert City</td>\n      <td>CO</td>\n      <td>123</td>\n    </tr>\n  </tbody>\n</table>\n</div>"
          },
          "metadata": {}
        }
      ],
      "execution_count": 5
    },
    {
      "cell_type": "markdown",
      "source": "#### Selecting a single column\n\nTo select the first column 'First Name', you can pass the column name as a string to the indexing operator.\n",
      "metadata": {}
    },
    {
      "cell_type": "code",
      "source": "df[\"First Name\"]",
      "metadata": {
        "trusted": true
      },
      "outputs": [
        {
          "execution_count": 6,
          "output_type": "execute_result",
          "data": {
            "text/plain": "0                     John\n1                     Jack\n2            John \"Da Man\"\n3                  Stephen\n4                      NaN\n5    Joan \"the bone\", Anne\nName: First Name, dtype: object"
          },
          "metadata": {}
        }
      ],
      "execution_count": 6
    },
    {
      "cell_type": "markdown",
      "source": "#### Selecting multiple columns\n\nTo select multiple columns, you can pass a list of column names to the indexing operator.\n",
      "metadata": {}
    },
    {
      "cell_type": "code",
      "source": "df = df[['First Name', 'Last Name', 'Location ', 'City','State','Area Code']]\ndf",
      "metadata": {
        "trusted": true
      },
      "outputs": [
        {
          "execution_count": 7,
          "output_type": "execute_result",
          "data": {
            "text/plain": "              First Name Last Name                         Location   \\\n0                   John       Doe                 120 jefferson st.   \n1                   Jack  McGinnis                      220 hobo Av.   \n2          John \"Da Man\"    Repici                 120 Jefferson St.   \n3                Stephen     Tyler  7452 Terrace \"At the Plaza\" road   \n4                    NaN  Blankman                               NaN   \n5  Joan \"the bone\", Anne       Jet               9th, at Terrace plc   \n\n          City State  Area Code  \n0    Riverside    NJ       8075  \n1        Phila    PA       9119  \n2    Riverside    NJ       8075  \n3     SomeTown    SD      91234  \n4     SomeTown    SD        298  \n5  Desert City    CO        123  ",
            "text/html": "<div>\n<style scoped>\n    .dataframe tbody tr th:only-of-type {\n        vertical-align: middle;\n    }\n\n    .dataframe tbody tr th {\n        vertical-align: top;\n    }\n\n    .dataframe thead th {\n        text-align: right;\n    }\n</style>\n<table border=\"1\" class=\"dataframe\">\n  <thead>\n    <tr style=\"text-align: right;\">\n      <th></th>\n      <th>First Name</th>\n      <th>Last Name</th>\n      <th>Location</th>\n      <th>City</th>\n      <th>State</th>\n      <th>Area Code</th>\n    </tr>\n  </thead>\n  <tbody>\n    <tr>\n      <th>0</th>\n      <td>John</td>\n      <td>Doe</td>\n      <td>120 jefferson st.</td>\n      <td>Riverside</td>\n      <td>NJ</td>\n      <td>8075</td>\n    </tr>\n    <tr>\n      <th>1</th>\n      <td>Jack</td>\n      <td>McGinnis</td>\n      <td>220 hobo Av.</td>\n      <td>Phila</td>\n      <td>PA</td>\n      <td>9119</td>\n    </tr>\n    <tr>\n      <th>2</th>\n      <td>John \"Da Man\"</td>\n      <td>Repici</td>\n      <td>120 Jefferson St.</td>\n      <td>Riverside</td>\n      <td>NJ</td>\n      <td>8075</td>\n    </tr>\n    <tr>\n      <th>3</th>\n      <td>Stephen</td>\n      <td>Tyler</td>\n      <td>7452 Terrace \"At the Plaza\" road</td>\n      <td>SomeTown</td>\n      <td>SD</td>\n      <td>91234</td>\n    </tr>\n    <tr>\n      <th>4</th>\n      <td>NaN</td>\n      <td>Blankman</td>\n      <td>NaN</td>\n      <td>SomeTown</td>\n      <td>SD</td>\n      <td>298</td>\n    </tr>\n    <tr>\n      <th>5</th>\n      <td>Joan \"the bone\", Anne</td>\n      <td>Jet</td>\n      <td>9th, at Terrace plc</td>\n      <td>Desert City</td>\n      <td>CO</td>\n      <td>123</td>\n    </tr>\n  </tbody>\n</table>\n</div>"
          },
          "metadata": {}
        }
      ],
      "execution_count": 7
    },
    {
      "cell_type": "markdown",
      "source": "#### Selecting rows using .iloc and .loc\n\nNow, let's see how to use .loc for selecting rows from our DataFrame.\n\n**loc() : loc() is label based data selecting method which means that we have to pass the name of the row or column which we want to select.**\n",
      "metadata": {}
    },
    {
      "cell_type": "code",
      "source": "# To select the first row\ndf.loc[0]",
      "metadata": {
        "trusted": true
      },
      "outputs": [
        {
          "execution_count": 8,
          "output_type": "execute_result",
          "data": {
            "text/plain": "First Name                 John\nLast Name                   Doe\nLocation      120 jefferson st.\nCity                  Riverside\nState                        NJ\nArea Code                  8075\nName: 0, dtype: object"
          },
          "metadata": {}
        }
      ],
      "execution_count": 8
    },
    {
      "cell_type": "code",
      "source": "# To select the 0th,1st and 2nd row of \"First Name\" column only\ndf.loc[[0,1,2], \"First Name\" ]",
      "metadata": {
        "trusted": true
      },
      "outputs": [
        {
          "execution_count": 9,
          "output_type": "execute_result",
          "data": {
            "text/plain": "0             John\n1             Jack\n2    John \"Da Man\"\nName: First Name, dtype: object"
          },
          "metadata": {}
        }
      ],
      "execution_count": 9
    },
    {
      "cell_type": "markdown",
      "source": "Now, let's see how to use .iloc for selecting rows from our DataFrame.\n\n**iloc() : iloc() is a indexed based selecting method which means that we have to pass integer index in the method to select specific row/column.**\n",
      "metadata": {}
    },
    {
      "cell_type": "code",
      "source": "# To select the 0th,1st and 2nd row of \"First Name\" column only\ndf.iloc[[0,1,2], 0]",
      "metadata": {
        "trusted": true
      },
      "outputs": [
        {
          "execution_count": 10,
          "output_type": "execute_result",
          "data": {
            "text/plain": "0             John\n1             Jack\n2    John \"Da Man\"\nName: First Name, dtype: object"
          },
          "metadata": {}
        }
      ],
      "execution_count": 10
    },
    {
      "cell_type": "markdown",
      "source": "For more information please read the [documentation](https://pandas.pydata.org/pandas-docs/stable/user_guide/indexing.html?utm_medium=Exinfluencer&utm_source=Exinfluencer&utm_content=000026UJ&utm_term=10006555&utm_id=NA-SkillsNetwork-Channel-SkillsNetworkCoursesIBMDeveloperSkillsNetworkPY0101ENSkillsNetwork19487395-2021-01-01).\n\nLet's perform some basic transformation in pandas.\n",
      "metadata": {}
    },
    {
      "cell_type": "markdown",
      "source": "### Transform Function in Pandas\n\nPython's Transform function returns a self-produced dataframe with transformed values after applying the function specified in its parameter.\n\nLet's see how Transform function works.\n",
      "metadata": {}
    },
    {
      "cell_type": "code",
      "source": "#import library\nimport pandas as pd\nimport numpy as np",
      "metadata": {
        "trusted": true
      },
      "outputs": [],
      "execution_count": 11
    },
    {
      "cell_type": "code",
      "source": "#creating a dataframe\ndf=pd.DataFrame(np.array([[1, 2, 3], [4, 5, 6], [7, 8, 9]]), columns=['a', 'b', 'c'])\ndf",
      "metadata": {
        "trusted": true
      },
      "outputs": [
        {
          "execution_count": 12,
          "output_type": "execute_result",
          "data": {
            "text/plain": "   a  b  c\n0  1  2  3\n1  4  5  6\n2  7  8  9",
            "text/html": "<div>\n<style scoped>\n    .dataframe tbody tr th:only-of-type {\n        vertical-align: middle;\n    }\n\n    .dataframe tbody tr th {\n        vertical-align: top;\n    }\n\n    .dataframe thead th {\n        text-align: right;\n    }\n</style>\n<table border=\"1\" class=\"dataframe\">\n  <thead>\n    <tr style=\"text-align: right;\">\n      <th></th>\n      <th>a</th>\n      <th>b</th>\n      <th>c</th>\n    </tr>\n  </thead>\n  <tbody>\n    <tr>\n      <th>0</th>\n      <td>1</td>\n      <td>2</td>\n      <td>3</td>\n    </tr>\n    <tr>\n      <th>1</th>\n      <td>4</td>\n      <td>5</td>\n      <td>6</td>\n    </tr>\n    <tr>\n      <th>2</th>\n      <td>7</td>\n      <td>8</td>\n      <td>9</td>\n    </tr>\n  </tbody>\n</table>\n</div>"
          },
          "metadata": {}
        }
      ],
      "execution_count": 12
    },
    {
      "cell_type": "markdown",
      "source": "Let’s say we want to add 10 to each element in a dataframe:\n",
      "metadata": {}
    },
    {
      "cell_type": "code",
      "source": "#applying the transform function\ndf = df.transform(func = lambda x : x + 10)\ndf",
      "metadata": {
        "trusted": true
      },
      "outputs": [
        {
          "execution_count": 13,
          "output_type": "execute_result",
          "data": {
            "text/plain": "    a   b   c\n0  11  12  13\n1  14  15  16\n2  17  18  19",
            "text/html": "<div>\n<style scoped>\n    .dataframe tbody tr th:only-of-type {\n        vertical-align: middle;\n    }\n\n    .dataframe tbody tr th {\n        vertical-align: top;\n    }\n\n    .dataframe thead th {\n        text-align: right;\n    }\n</style>\n<table border=\"1\" class=\"dataframe\">\n  <thead>\n    <tr style=\"text-align: right;\">\n      <th></th>\n      <th>a</th>\n      <th>b</th>\n      <th>c</th>\n    </tr>\n  </thead>\n  <tbody>\n    <tr>\n      <th>0</th>\n      <td>11</td>\n      <td>12</td>\n      <td>13</td>\n    </tr>\n    <tr>\n      <th>1</th>\n      <td>14</td>\n      <td>15</td>\n      <td>16</td>\n    </tr>\n    <tr>\n      <th>2</th>\n      <td>17</td>\n      <td>18</td>\n      <td>19</td>\n    </tr>\n  </tbody>\n</table>\n</div>"
          },
          "metadata": {}
        }
      ],
      "execution_count": 13
    },
    {
      "cell_type": "markdown",
      "source": "Now we will use DataFrame.transform() function to find the square root to each element of the dataframe.\n",
      "metadata": {}
    },
    {
      "cell_type": "code",
      "source": "result = df.transform(func = ['sqrt'])",
      "metadata": {
        "trusted": true
      },
      "outputs": [],
      "execution_count": 14
    },
    {
      "cell_type": "code",
      "source": "result",
      "metadata": {
        "trusted": true
      },
      "outputs": [
        {
          "execution_count": 15,
          "output_type": "execute_result",
          "data": {
            "text/plain": "          a         b         c\n       sqrt      sqrt      sqrt\n0  3.316625  3.464102  3.605551\n1  3.741657  3.872983  4.000000\n2  4.123106  4.242641  4.358899",
            "text/html": "<div>\n<style scoped>\n    .dataframe tbody tr th:only-of-type {\n        vertical-align: middle;\n    }\n\n    .dataframe tbody tr th {\n        vertical-align: top;\n    }\n\n    .dataframe thead tr th {\n        text-align: left;\n    }\n</style>\n<table border=\"1\" class=\"dataframe\">\n  <thead>\n    <tr>\n      <th></th>\n      <th>a</th>\n      <th>b</th>\n      <th>c</th>\n    </tr>\n    <tr>\n      <th></th>\n      <th>sqrt</th>\n      <th>sqrt</th>\n      <th>sqrt</th>\n    </tr>\n  </thead>\n  <tbody>\n    <tr>\n      <th>0</th>\n      <td>3.316625</td>\n      <td>3.464102</td>\n      <td>3.605551</td>\n    </tr>\n    <tr>\n      <th>1</th>\n      <td>3.741657</td>\n      <td>3.872983</td>\n      <td>4.000000</td>\n    </tr>\n    <tr>\n      <th>2</th>\n      <td>4.123106</td>\n      <td>4.242641</td>\n      <td>4.358899</td>\n    </tr>\n  </tbody>\n</table>\n</div>"
          },
          "metadata": {}
        }
      ],
      "execution_count": 15
    },
    {
      "cell_type": "markdown",
      "source": "For more information about the **transform()** function  please read the [documentation](https://pandas.pydata.org/pandas-docs/stable/reference/api/pandas.DataFrame.transform.html?utm_medium=Exinfluencer&utm_source=Exinfluencer&utm_content=000026UJ&utm_term=10006555&utm_id=NA-SkillsNetwork-Channel-SkillsNetworkCoursesIBMDeveloperSkillsNetworkPY0101ENSkillsNetwork19487395-2021-01-01).\n",
      "metadata": {}
    }
  ]
}