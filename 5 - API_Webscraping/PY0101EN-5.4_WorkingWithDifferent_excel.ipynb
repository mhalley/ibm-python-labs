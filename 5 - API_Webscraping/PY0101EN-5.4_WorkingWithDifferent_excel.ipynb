{
  "metadata": {
    "kernelspec": {
      "name": "python",
      "display_name": "Python (Pyodide)",
      "language": "python"
    },
    "language_info": {
      "codemirror_mode": {
        "name": "python",
        "version": 3
      },
      "file_extension": ".py",
      "mimetype": "text/x-python",
      "name": "python",
      "nbconvert_exporter": "python",
      "pygments_lexer": "ipython3",
      "version": "3.8"
    }
  },
  "nbformat_minor": 4,
  "nbformat": 4,
  "cells": [
    {
      "cell_type": "code",
      "source": "",
      "metadata": {
        "trusted": true
      },
      "outputs": [],
      "execution_count": null
    },
    {
      "cell_type": "markdown",
      "source": "<center>\n    <img src=\"https://cf-courses-data.s3.us.cloud-object-storage.appdomain.cloud/IBMDeveloperSkillsNetwork-PY0101EN-SkillsNetwork/IDSNlogo.png\" width=\"300\" alt=\"cognitiveclass.ai logo\">\n</center>\n",
      "metadata": {
        "tags": [],
        "editable": true,
        "slideshow": {
          "slide_type": "slide"
        }
      }
    },
    {
      "cell_type": "markdown",
      "source": "# Hands-on Lab: Working with different file formats\n\nEstimated time: **40 mins**\n",
      "metadata": {
        "jp-MarkdownHeadingCollapsed": true
      }
    },
    {
      "cell_type": "markdown",
      "source": "# Table of Contents\n\n<div class=\"alert alert-block alert-info\" style=\"margin-top: 20px\">\n\n<font size = 3>\n\n1.  <a href=\"#Data-Engineering\">Data Engineering</a>\n2.  <a href=\"#Data-Engineering-Process\">Data Engineering Process</a>\n3.  <a href=\"#Working-with-different-file-formats\">Working with different file formats</a>\n4.  <a href=\"#Data-Analysis\">Data Analysis</a>\n\n</font>\n</div>\n",
      "metadata": {
        "jp-MarkdownHeadingCollapsed": true
      }
    },
    {
      "cell_type": "markdown",
      "source": "# Data Engineering\n",
      "metadata": {}
    },
    {
      "cell_type": "markdown",
      "source": "**Data engineering** is one of the most critical and foundational skills in any data scientist’s toolkit.\n",
      "metadata": {
        "tags": [],
        "editable": true,
        "slideshow": {
          "slide_type": ""
        }
      }
    },
    {
      "cell_type": "markdown",
      "source": "# XLSX file format\n",
      "metadata": {}
    },
    {
      "cell_type": "markdown",
      "source": "**XLSX** is a Microsoft Excel Open XML file format. It is another type of Spreadsheet file format.\n\nIn XLSX data is organized under the cells and columns in a sheet.\n",
      "metadata": {}
    },
    {
      "cell_type": "markdown",
      "source": "## Reading the data from XLSX file\n",
      "metadata": {}
    },
    {
      "cell_type": "markdown",
      "source": "Let's load the data from XLSX file and define the sheet name. For loading the data you can use the Pandas library in python.\n",
      "metadata": {}
    },
    {
      "cell_type": "code",
      "source": "import pandas as pd",
      "metadata": {
        "trusted": true
      },
      "outputs": [],
      "execution_count": 22
    },
    {
      "cell_type": "code",
      "source": "# Not needed unless you're running locally\n# import urllib.request\n# urllib.request.urlretrieve(\"https://cf-courses-data.s3.us.cloud-object-storage.appdomain.cloud/IBMDeveloperSkillsNetwork-PY0101EN-SkillsNetwork/labs/Module%205/data/file_example_XLSX_10.xlsx\", \"sample.xlsx\")\n\nfilename = \"https://cf-courses-data.s3.us.cloud-object-storage.appdomain.cloud/IBMDeveloperSkillsNetwork-PY0101EN-SkillsNetwork/labs/Module%205/data/file_example_XLSX_10.xlsx\"\n\nasync def download(url, filename):\n    response = await pyfetch(url)\n    if response.status == 200:\n        with open(filename, \"wb\") as f:\n            f.write(await response.bytes())\n\nawait download(filename, \"file_example_XLSX_10.xlsx\")\n\ndf = pd.read_excel(\"file_example_XLSX_10.xlsx\")",
      "metadata": {
        "trusted": true
      },
      "outputs": [],
      "execution_count": 23
    },
    {
      "cell_type": "code",
      "source": "df",
      "metadata": {
        "trusted": true
      },
      "outputs": [
        {
          "execution_count": 24,
          "output_type": "execute_result",
          "data": {
            "text/plain": "   0 First Name  Last Name  Gender        Country  Age        Date    Id\n0  1      Dulce      Abril  Female  United States   32  15/10/2017  1562\n1  2       Mara  Hashimoto  Female  Great Britain   25  16/08/2016  1582\n2  3     Philip       Gent    Male         France   36  21/05/2015  2587\n3  4   Kathleen     Hanner  Female  United States   25  15/10/2017  3549\n4  5    Nereida    Magwood  Female  United States   58  16/08/2016  2468\n5  6     Gaston      Brumm    Male  United States   24  21/05/2015  2554\n6  7       Etta       Hurn  Female  Great Britain   56  15/10/2017  3598\n7  8    Earlean     Melgar  Female  United States   27  16/08/2016  2456\n8  9   Vincenza    Weiland  Female  United States   40  21/05/2015  6548",
            "text/html": "<div>\n<style scoped>\n    .dataframe tbody tr th:only-of-type {\n        vertical-align: middle;\n    }\n\n    .dataframe tbody tr th {\n        vertical-align: top;\n    }\n\n    .dataframe thead th {\n        text-align: right;\n    }\n</style>\n<table border=\"1\" class=\"dataframe\">\n  <thead>\n    <tr style=\"text-align: right;\">\n      <th></th>\n      <th>0</th>\n      <th>First Name</th>\n      <th>Last Name</th>\n      <th>Gender</th>\n      <th>Country</th>\n      <th>Age</th>\n      <th>Date</th>\n      <th>Id</th>\n    </tr>\n  </thead>\n  <tbody>\n    <tr>\n      <th>0</th>\n      <td>1</td>\n      <td>Dulce</td>\n      <td>Abril</td>\n      <td>Female</td>\n      <td>United States</td>\n      <td>32</td>\n      <td>15/10/2017</td>\n      <td>1562</td>\n    </tr>\n    <tr>\n      <th>1</th>\n      <td>2</td>\n      <td>Mara</td>\n      <td>Hashimoto</td>\n      <td>Female</td>\n      <td>Great Britain</td>\n      <td>25</td>\n      <td>16/08/2016</td>\n      <td>1582</td>\n    </tr>\n    <tr>\n      <th>2</th>\n      <td>3</td>\n      <td>Philip</td>\n      <td>Gent</td>\n      <td>Male</td>\n      <td>France</td>\n      <td>36</td>\n      <td>21/05/2015</td>\n      <td>2587</td>\n    </tr>\n    <tr>\n      <th>3</th>\n      <td>4</td>\n      <td>Kathleen</td>\n      <td>Hanner</td>\n      <td>Female</td>\n      <td>United States</td>\n      <td>25</td>\n      <td>15/10/2017</td>\n      <td>3549</td>\n    </tr>\n    <tr>\n      <th>4</th>\n      <td>5</td>\n      <td>Nereida</td>\n      <td>Magwood</td>\n      <td>Female</td>\n      <td>United States</td>\n      <td>58</td>\n      <td>16/08/2016</td>\n      <td>2468</td>\n    </tr>\n    <tr>\n      <th>5</th>\n      <td>6</td>\n      <td>Gaston</td>\n      <td>Brumm</td>\n      <td>Male</td>\n      <td>United States</td>\n      <td>24</td>\n      <td>21/05/2015</td>\n      <td>2554</td>\n    </tr>\n    <tr>\n      <th>6</th>\n      <td>7</td>\n      <td>Etta</td>\n      <td>Hurn</td>\n      <td>Female</td>\n      <td>Great Britain</td>\n      <td>56</td>\n      <td>15/10/2017</td>\n      <td>3598</td>\n    </tr>\n    <tr>\n      <th>7</th>\n      <td>8</td>\n      <td>Earlean</td>\n      <td>Melgar</td>\n      <td>Female</td>\n      <td>United States</td>\n      <td>27</td>\n      <td>16/08/2016</td>\n      <td>2456</td>\n    </tr>\n    <tr>\n      <th>8</th>\n      <td>9</td>\n      <td>Vincenza</td>\n      <td>Weiland</td>\n      <td>Female</td>\n      <td>United States</td>\n      <td>40</td>\n      <td>21/05/2015</td>\n      <td>6548</td>\n    </tr>\n  </tbody>\n</table>\n</div>"
          },
          "metadata": {}
        }
      ],
      "execution_count": 24
    }
  ]
}