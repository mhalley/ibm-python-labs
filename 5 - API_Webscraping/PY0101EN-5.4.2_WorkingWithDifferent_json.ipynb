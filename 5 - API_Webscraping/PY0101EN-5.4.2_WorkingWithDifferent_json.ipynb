{
  "metadata": {
    "kernelspec": {
      "name": "python",
      "display_name": "Python (Pyodide)",
      "language": "python"
    },
    "language_info": {
      "codemirror_mode": {
        "name": "python",
        "version": 3
      },
      "file_extension": ".py",
      "mimetype": "text/x-python",
      "name": "python",
      "nbconvert_exporter": "python",
      "pygments_lexer": "ipython3",
      "version": "3.8"
    }
  },
  "nbformat_minor": 4,
  "nbformat": 4,
  "cells": [
    {
      "cell_type": "markdown",
      "source": "<center>\n    <img src=\"https://cf-courses-data.s3.us.cloud-object-storage.appdomain.cloud/IBMDeveloperSkillsNetwork-PY0101EN-SkillsNetwork/IDSNlogo.png\" width=\"300\" alt=\"cognitiveclass.ai logo\">\n</center>\n",
      "metadata": {
        "tags": [],
        "editable": true,
        "slideshow": {
          "slide_type": "slide"
        }
      }
    },
    {
      "cell_type": "markdown",
      "source": "# Hands-on Lab: Working with different file formats\n\nEstimated time: **40 mins**\n",
      "metadata": {
        "jp-MarkdownHeadingCollapsed": true
      }
    },
    {
      "cell_type": "markdown",
      "source": "# Table of Contents\n\n<div class=\"alert alert-block alert-info\" style=\"margin-top: 20px\">\n\n<font size = 3>\n\n1.  <a href=\"#Data-Engineering\">Data Engineering</a>\n2.  <a href=\"#Data-Engineering-Process\">Data Engineering Process</a>\n3.  <a href=\"#Working-with-different-file-formats\">Working with different file formats</a>\n4.  <a href=\"#Data-Analysis\">Data Analysis</a>\n\n</font>\n</div>\n",
      "metadata": {
        "jp-MarkdownHeadingCollapsed": true
      }
    },
    {
      "cell_type": "markdown",
      "source": "# Data Engineering\n",
      "metadata": {}
    },
    {
      "cell_type": "markdown",
      "source": "**Data engineering** is one of the most critical and foundational skills in any data scientist’s toolkit.\n",
      "metadata": {
        "tags": [],
        "editable": true,
        "slideshow": {
          "slide_type": ""
        }
      }
    },
    {
      "cell_type": "markdown",
      "source": "# JSON file Format\n",
      "metadata": {}
    },
    {
      "cell_type": "markdown",
      "source": "**JSON (JavaScript Object Notation)** is a lightweight data-interchange format. It is easy for humans to read and write.\n\nJSON is built on two structures:\n\n1.  A collection of name/value pairs. In various languages, this is realized as an object, record, struct, dictionary, hash table, keyed list, or associative array.\n\n2.  An ordered list of values. In most languages, this is realized as an array, vector, list, or sequence.\n\nJSON is a language-independent data format. It was derived from JavaScript, but many modern programming languages include code to generate and parse JSON-format data. It is a very common data format with a diverse range of applications.\n",
      "metadata": {}
    },
    {
      "cell_type": "markdown",
      "source": "The text in JSON is done through quoted string which contains the values in key-value mappings within { }. It is similar to the dictionary in Python.\n",
      "metadata": {}
    },
    {
      "cell_type": "markdown",
      "source": "Python supports JSON through a built-in package called **json**. To use this feature, we import the json package in Python script.\n",
      "metadata": {}
    },
    {
      "cell_type": "code",
      "source": "import json",
      "metadata": {
        "trusted": true
      },
      "outputs": [],
      "execution_count": 16
    },
    {
      "cell_type": "markdown",
      "source": "# Writing JSON to a File\n\nThis is usually called **serialization**. It is the process of converting an object into a special format which is suitable for transmitting over the network or storing in file or database.\n\nTo handle the data flow in a file, the JSON library in Python uses the **dump()** or **dumps()** function to convert the Python objects into their respective JSON object. This makes it easy to write data to files.\n",
      "metadata": {}
    },
    {
      "cell_type": "code",
      "source": "import json\nperson = {\n    'first_name' : 'Mark',\n    'last_name' : 'abc',\n    'age' : 27,\n    'address': {\n        \"streetAddress\": \"21 2nd Street\",\n        \"city\": \"New York\",\n        \"state\": \"NY\",\n        \"postalCode\": \"10021-3100\"\n    }\n}",
      "metadata": {
        "trusted": true
      },
      "outputs": [],
      "execution_count": 17
    },
    {
      "cell_type": "markdown",
      "source": "#### serialization using dump() function\n\n**json.dump()** method can be used for writing to JSON file.\n\nSyntax: json.dump(dict, file_pointer)\n\nParameters:\n\n1.  **dictionary** – name of the dictionary which should be converted to JSON object.\n2.  **file pointer** – pointer of the file opened in write or append mode.\n",
      "metadata": {}
    },
    {
      "cell_type": "code",
      "source": "with open('person.json', 'w') as f:  # writing JSON object\n    json.dump(person, f)",
      "metadata": {
        "trusted": true
      },
      "outputs": [],
      "execution_count": 18
    },
    {
      "cell_type": "markdown",
      "source": "#### serialization using dumps() function\n\n**json.dumps()** that helps in converting a dictionary to a JSON object.\n\nIt takes two parameters:\n\n1.  **dictionary** – name of the dictionary which should be converted to JSON object.\n2.  **indent** – defines the number of units for indentation\n",
      "metadata": {}
    },
    {
      "cell_type": "code",
      "source": "# Serializing json  \njson_object = json.dumps(person, indent = 4) \n  \n# Writing to sample.json \nwith open(\"sample.json\", \"w\") as outfile: \n    outfile.write(json_object) ",
      "metadata": {
        "trusted": true
      },
      "outputs": [],
      "execution_count": 19
    },
    {
      "cell_type": "code",
      "source": "print(json_object)",
      "metadata": {
        "trusted": true
      },
      "outputs": [
        {
          "name": "stdout",
          "text": "{\n    \"first_name\": \"Mark\",\n    \"last_name\": \"abc\",\n    \"age\": 27,\n    \"address\": {\n        \"streetAddress\": \"21 2nd Street\",\n        \"city\": \"New York\",\n        \"state\": \"NY\",\n        \"postalCode\": \"10021-3100\"\n    }\n}\n",
          "output_type": "stream"
        }
      ],
      "execution_count": 20
    },
    {
      "cell_type": "markdown",
      "source": "Our Python objects are now serialized to the file. For deserialize it back to the Python object, we use the load() function.\n",
      "metadata": {}
    },
    {
      "cell_type": "markdown",
      "source": "# Reading JSON to a File\n",
      "metadata": {}
    },
    {
      "cell_type": "markdown",
      "source": "This process is usually called **Deserialization** - it is the reverse of serialization. It converts the special format returned by the serialization back into a usable object.\n\n### Using json.load()\n\nThe JSON package has json.load() function that loads the json content from a json file into a dictionary.\n\nIt takes one parameter:\n\n**File pointer** : A file pointer that points to a JSON file.\n",
      "metadata": {}
    },
    {
      "cell_type": "code",
      "source": "import json \n  \n# Opening JSON file \nwith open('sample.json', 'r') as openfile: \n  \n    # Reading from json file \n    json_object = json.load(openfile) \n  \nprint(json_object) \nprint(type(json_object)) ",
      "metadata": {
        "trusted": true
      },
      "outputs": [
        {
          "name": "stdout",
          "text": "{'first_name': 'Mark', 'last_name': 'abc', 'age': 27, 'address': {'streetAddress': '21 2nd Street', 'city': 'New York', 'state': 'NY', 'postalCode': '10021-3100'}}\n<class 'dict'>\n",
          "output_type": "stream"
        }
      ],
      "execution_count": 21
    }
  ]
}